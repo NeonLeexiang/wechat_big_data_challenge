{
 "cells": [
  {
   "cell_type": "code",
   "execution_count": 1,
   "metadata": {
    "collapsed": true
   },
   "outputs": [],
   "source": [
    "import os\n",
    "import numpy as np\n",
    "import pandas as pd\n"
   ]
  },
  {
   "cell_type": "code",
   "execution_count": 2,
   "outputs": [
    {
     "name": "stdout",
     "output_type": "stream",
     "text": [
      "         userid  feedid  date_  device  read_comment  comment  like    play  \\\n",
      "0             8   71474      1       1             0        0     1     500   \n",
      "1             8   73916      1       1             0        0     0     250   \n",
      "2             8   50282      1       1             0        0     0     750   \n",
      "3             8   11391      1       1             0        0     1    3750   \n",
      "4             8   27349      1       1             0        0     0     250   \n",
      "...         ...     ...    ...     ...           ...      ...   ...     ...   \n",
      "7317877  250236   72813     12       2             0        0     0    6369   \n",
      "7317878  250236   52019     12       2             0        0     0   13212   \n",
      "7317879  250236   51045     12       2             0        0     0       0   \n",
      "7317880  250236   46881     12       2             0        0     0       0   \n",
      "7317881  250236   53804     12       2             1        0     0  160560   \n",
      "\n",
      "           stay  click_avatar  forward  follow  favorite  \n",
      "0          5366             0        0       0         0  \n",
      "1          1533             0        0       0         0  \n",
      "2          1302             0        0       0         0  \n",
      "3          5191             0        0       0         0  \n",
      "4           800             0        0       0         0  \n",
      "...         ...           ...      ...     ...       ...  \n",
      "7317877    6566             0        0       0         0  \n",
      "7317878   13708             0        0       0         0  \n",
      "7317879   32215             0        0       0         0  \n",
      "7317880    5618             0        0       0         0  \n",
      "7317881  161024             0        0       0         0  \n",
      "\n",
      "[7317882 rows x 13 columns]\n"
     ]
    }
   ],
   "source": [
    "root = './data/wechat_algo_data1'\n",
    "train_data = pd.read_csv(os.path.join(root, 'user_action.csv')).astype(int)\n",
    "\n",
    "print(train_data)"
   ],
   "metadata": {
    "collapsed": false,
    "pycharm": {
     "name": "#%%\n"
    }
   }
  },
  {
   "cell_type": "code",
   "execution_count": 3,
   "outputs": [
    {
     "name": "stdout",
     "output_type": "stream",
     "text": [
      "   userid  feedid  read_comment  like  click_avatar  forward\n",
      "0       8   71474             0     1             0        0\n",
      "1       8   73916             0     0             0        0\n",
      "2       8   50282             0     0             0        0\n",
      "3       8   11391             0     1             0        0\n",
      "4       8   27349             0     0             0        0\n"
     ]
    }
   ],
   "source": [
    "drop_columns = ['date_', 'device', 'comment', 'play', 'stay', 'follow', 'favorite']\n",
    "\n",
    "train_data = train_data.drop(columns=drop_columns)\n",
    "print(train_data.head())\n"
   ],
   "metadata": {
    "collapsed": false,
    "pycharm": {
     "name": "#%%\n"
    }
   }
  },
  {
   "cell_type": "code",
   "execution_count": 4,
   "outputs": [
    {
     "name": "stdout",
     "output_type": "stream",
     "text": [
      "   userid  feedid  read_comment  like  click_avatar  forward\n",
      "0       8   71474             0     1             0        0\n",
      "1       8   73916             0     0             0        0\n",
      "2       8   50282             0     0             0        0\n",
      "3       8   11391             0     1             0        0\n",
      "4       8   27349             0     0             0        0\n"
     ]
    }
   ],
   "source": [
    "cols = ['userid', 'feedid', 'read_comment', 'like', 'click_avatar', 'forward']\n",
    "drop_columns = ['date_', 'device', 'comment', 'play', 'stay', 'follow', 'favorite']\n",
    "\n",
    "root = './data/wechat_algo_data1'\n",
    "\n",
    "train_data = pd.read_csv(os.path.join(root, 'user_action.csv')).drop(columns=drop_columns).astype(int)\n",
    "print(train_data.head())"
   ],
   "metadata": {
    "collapsed": false,
    "pycharm": {
     "name": "#%%\n"
    }
   }
  },
  {
   "cell_type": "code",
   "execution_count": 6,
   "outputs": [
    {
     "name": "stdout",
     "output_type": "stream",
     "text": [
      "250236 112871\n"
     ]
    }
   ],
   "source": [
    "n_user, n_item = train_data[['userid', 'feedid']].max()\n",
    "\n",
    "print(n_user, n_item)\n"
   ],
   "metadata": {
    "collapsed": false,
    "pycharm": {
     "name": "#%%\n"
    }
   }
  },
  {
   "cell_type": "code",
   "execution_count": 7,
   "outputs": [],
   "source": [
    "# pytorch package\n",
    "import torch\n",
    "import torch.nn as nn\n",
    "from torch.utils.data import Dataset, DataLoader\n",
    "\n",
    "\n",
    "class MovieLens(Dataset):\n",
    "    def __init__(self, df):\n",
    "        self.df_values = df.values\n",
    "\n",
    "    def __getitem__(self, idx):\n",
    "        _userid, _feedid, _read_comment, _like, _click_avatar, _forward = self.df_values[idx]\n",
    "\n",
    "        return torch.LongTensor([_userid]), torch.LongTensor([_feedid]), torch.ShortTensor([_read_comment]), torch.ShortTensor([_like]), torch.ShortTensor([_click_avatar]), torch.ShortTensor([_forward])\n",
    "\n",
    "    def __len__(self):\n",
    "        return len(self.df_values)\n",
    "\n",
    "# dataset\n",
    "train_loader = DataLoader(MovieLens(train_data),\n",
    "                          batch_size=16,\n",
    "                          shuffle=True,\n",
    "\n",
    "                          num_workers=0)"
   ],
   "metadata": {
    "collapsed": false,
    "pycharm": {
     "name": "#%%\n"
    }
   }
  },
  {
   "cell_type": "code",
   "execution_count": 10,
   "outputs": [
    {
     "data": {
      "text/plain": "(tensor([8]),\n tensor([73916]),\n tensor([0], dtype=torch.int16),\n tensor([0], dtype=torch.int16),\n tensor([0], dtype=torch.int16),\n tensor([0], dtype=torch.int16))"
     },
     "execution_count": 10,
     "metadata": {},
     "output_type": "execute_result"
    }
   ],
   "source": [
    "MovieLens(train_data).__getitem__(1)\n"
   ],
   "metadata": {
    "collapsed": false,
    "pycharm": {
     "name": "#%%\n"
    }
   }
  },
  {
   "cell_type": "code",
   "execution_count": 11,
   "outputs": [
    {
     "name": "stdout",
     "output_type": "stream",
     "text": [
      "0b111101000101111100\n"
     ]
    }
   ],
   "source": [
    "print(bin(250236))\n"
   ],
   "metadata": {
    "collapsed": false,
    "pycharm": {
     "name": "#%%\n"
    }
   }
  },
  {
   "cell_type": "code",
   "execution_count": 12,
   "outputs": [
    {
     "name": "stdout",
     "output_type": "stream",
     "text": [
      "userid    8\n",
      "feedid    0\n",
      "dtype: int64\n"
     ]
    }
   ],
   "source": [
    "print(train_data[['userid', 'feedid']].min())\n"
   ],
   "metadata": {
    "collapsed": false,
    "pycharm": {
     "name": "#%%\n"
    }
   }
  },
  {
   "cell_type": "code",
   "execution_count": 14,
   "outputs": [
    {
     "name": "stdout",
     "output_type": "stream",
     "text": [
      "    0   1\n",
      "0  14  67\n"
     ]
    }
   ],
   "source": [
    "print(pd.DataFrame([[14, 67]]))"
   ],
   "metadata": {
    "collapsed": false,
    "pycharm": {
     "name": "#%%\n"
    }
   }
  }
 ],
 "metadata": {
  "kernelspec": {
   "display_name": "Python 3",
   "language": "python",
   "name": "python3"
  },
  "language_info": {
   "codemirror_mode": {
    "name": "ipython",
    "version": 2
   },
   "file_extension": ".py",
   "mimetype": "text/x-python",
   "name": "python",
   "nbconvert_exporter": "python",
   "pygments_lexer": "ipython2",
   "version": "2.7.6"
  }
 },
 "nbformat": 4,
 "nbformat_minor": 0
}